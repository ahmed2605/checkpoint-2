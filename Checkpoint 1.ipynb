{
 "cells": [
  {
   "cell_type": "markdown",
   "id": "1be6ef4f",
   "metadata": {},
   "source": [
    "# question 1"
   ]
  },
  {
   "cell_type": "code",
   "execution_count": 5,
   "id": "a8ac1c5c",
   "metadata": {},
   "outputs": [
    {
     "name": "stdout",
     "output_type": "stream",
     "text": [
      "ahmed\n",
      "nouri\n",
      "hello nouri ahmed\n"
     ]
    }
   ],
   "source": [
    "first_name = input ()\n",
    "last_name = input ()\n",
    "print(\"hello \"+last_name+\" \"+first_name)"
   ]
  },
  {
   "cell_type": "markdown",
   "id": "7d0714ea",
   "metadata": {},
   "source": [
    "# Q2"
   ]
  },
  {
   "cell_type": "code",
   "execution_count": 12,
   "id": "9519e55c",
   "metadata": {},
   "outputs": [
    {
     "name": "stdout",
     "output_type": "stream",
     "text": [
      "5\n",
      "615\n"
     ]
    }
   ],
   "source": [
    "n = int(input())\n",
    "a=str(n)\n",
    "b=a+a\n",
    "c=a+a+a\n",
    "calcul = n+int(b)+int(c)\n",
    "print (calcul)"
   ]
  },
  {
   "cell_type": "markdown",
   "id": "1a88b23b",
   "metadata": {},
   "source": [
    "# Q3"
   ]
  },
  {
   "cell_type": "code",
   "execution_count": 15,
   "id": "4dc77c0e",
   "metadata": {},
   "outputs": [
    {
     "name": "stdout",
     "output_type": "stream",
     "text": [
      "5\n",
      "it is odd\n"
     ]
    }
   ],
   "source": [
    "n= int(input())\n",
    "pair = n%2\n",
    "if pair == 0 :\n",
    "    print(\"it is even\")\n",
    "else :\n",
    "        print(\"it is odd\")"
   ]
  },
  {
   "cell_type": "code",
   "execution_count": 20,
   "id": "ee4094cb",
   "metadata": {},
   "outputs": [
    {
     "ename": "SyntaxError",
     "evalue": "invalid syntax (<ipython-input-20-d7daacc9ee34>, line 2)",
     "output_type": "error",
     "traceback": [
      "\u001b[0;36m  File \u001b[0;32m\"<ipython-input-20-d7daacc9ee34>\"\u001b[0;36m, line \u001b[0;32m2\u001b[0m\n\u001b[0;31m    if i%7==0 and i%5==0\u001b[0m\n\u001b[0m                        ^\u001b[0m\n\u001b[0;31mSyntaxError\u001b[0m\u001b[0;31m:\u001b[0m invalid syntax\n"
     ]
    }
   ],
   "source": [
    "# Q4\n",
    "for i in range (2000,3201):\n",
    "    if i%7==0 and i%5==0\n",
    "    print (i)"
   ]
  },
  {
   "cell_type": "code",
   "execution_count": null,
   "id": "9e608532",
   "metadata": {},
   "outputs": [],
   "source": []
  },
  {
   "cell_type": "code",
   "execution_count": null,
   "id": "7d203f2d",
   "metadata": {},
   "outputs": [],
   "source": [
    "# Q7"
   ]
  },
  {
   "cell_type": "code",
   "execution_count": 21,
   "id": "9b9aacd4",
   "metadata": {},
   "outputs": [
    {
     "ename": "IndentationError",
     "evalue": "expected an indented block (<ipython-input-21-cc75df955e95>, line 5)",
     "output_type": "error",
     "traceback": [
      "\u001b[0;36m  File \u001b[0;32m\"<ipython-input-21-cc75df955e95>\"\u001b[0;36m, line \u001b[0;32m5\u001b[0m\n\u001b[0;31m    new_price=price*0.7\u001b[0m\n\u001b[0m    ^\u001b[0m\n\u001b[0;31mIndentationError\u001b[0m\u001b[0;31m:\u001b[0m expected an indented block\n"
     ]
    }
   ],
   "source": [
    "price = input (\"give the price\")\n",
    "if int(price)>=500 :\n",
    "    new_price=price*0,5\n",
    "elif int(price)<500 and int(price)>=200:\n",
    "new_price=price*0.7\n",
    "else :\n",
    "    new_price=price*0.9"
   ]
  },
  {
   "cell_type": "markdown",
   "id": "8379a43b",
   "metadata": {},
   "source": [
    "\n",
    "# question 7\n",
    "p\n",
    "    \n",
    "# question 6\n",
    "str1 = input(\"enter you string\")\n",
    "str2 = \" \"\n",
    "for i in range (len(str1))\n",
    "if i%2==0\n",
    "str2 = str1+ str[i]\n",
    "print(str2)\n",
    "# question 5\n",
    "n=int(input(\"enter a number\"))\n",
    "factorial=1\n",
    "for i in range (1,n+1)\n",
    "factorial=factorial*i\n",
    "print(factorial)\n",
    "\n"
   ]
  }
 ],
 "metadata": {
  "kernelspec": {
   "display_name": "Python 3",
   "language": "python",
   "name": "python3"
  }
 },
 "nbformat": 4,
 "nbformat_minor": 5
}
